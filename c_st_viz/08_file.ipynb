{
 "cells": [
  {
   "cell_type": "code",
   "execution_count": 1,
   "id": "2d10ed5e",
   "metadata": {},
   "outputs": [],
   "source": [
    "import pandas as pd"
   ]
  },
  {
   "cell_type": "code",
   "execution_count": 2,
   "id": "4e9048c6",
   "metadata": {},
   "outputs": [
    {
     "data": {
      "text/plain": [
       "Timestamp('2019-12-31 00:00:00')"
      ]
     },
     "execution_count": 2,
     "metadata": {},
     "output_type": "execute_result"
    }
   ],
   "source": [
    "pd.to_datetime(\"2019-12-31\")"
   ]
  },
  {
   "cell_type": "code",
   "execution_count": 3,
   "id": "b796dd04",
   "metadata": {},
   "outputs": [
    {
     "data": {
      "text/plain": [
       "Timestamp('2019-12-31 00:00:00')"
      ]
     },
     "execution_count": 3,
     "metadata": {},
     "output_type": "execute_result"
    }
   ],
   "source": [
    "pd.to_datetime(\"2019/12/31\")"
   ]
  },
  {
   "cell_type": "code",
   "execution_count": 4,
   "id": "09ab86ae",
   "metadata": {},
   "outputs": [
    {
     "data": {
      "text/plain": [
       "Timestamp('2019-12-31 00:00:00')"
      ]
     },
     "execution_count": 4,
     "metadata": {},
     "output_type": "execute_result"
    }
   ],
   "source": [
    "pd.to_datetime(\"December 31st 2019\")"
   ]
  },
  {
   "cell_type": "code",
   "execution_count": 5,
   "id": "ed4a77c0",
   "metadata": {},
   "outputs": [
    {
     "data": {
      "text/plain": [
       "Timestamp('2019-12-31 16:00:00')"
      ]
     },
     "execution_count": 5,
     "metadata": {},
     "output_type": "execute_result"
    }
   ],
   "source": [
    "pd.to_datetime(\"December 31st 2019 4pm\")"
   ]
  },
  {
   "cell_type": "code",
   "execution_count": 6,
   "id": "ddbf6b20",
   "metadata": {},
   "outputs": [
    {
     "data": {
      "text/plain": [
       "Timestamp('2019-12-31 04:50:00')"
      ]
     },
     "execution_count": 6,
     "metadata": {},
     "output_type": "execute_result"
    }
   ],
   "source": [
    "pd.to_datetime(\"December 31st 2019 4:50am\")"
   ]
  },
  {
   "cell_type": "code",
   "execution_count": 7,
   "id": "516311c3",
   "metadata": {},
   "outputs": [
    {
     "data": {
      "text/plain": [
       "Timestamp('1990-12-25 12:00:00')"
      ]
     },
     "execution_count": 7,
     "metadata": {},
     "output_type": "execute_result"
    }
   ],
   "source": [
    "pd.to_datetime(\"Dec. 25 1990 12pm\")"
   ]
  },
  {
   "cell_type": "code",
   "execution_count": 8,
   "id": "57b1b2a2",
   "metadata": {},
   "outputs": [
    {
     "data": {
      "text/plain": [
       "DatetimeIndex(['1990-04-02 03:55:45', '1991-04-22 03:55:45',\n",
       "               '1990-01-02 07:55:45'],\n",
       "              dtype='datetime64[ns]', freq=None)"
      ]
     },
     "execution_count": 8,
     "metadata": {},
     "output_type": "execute_result"
    }
   ],
   "source": [
    "dates = [\"3:55:45 Apr. 2nd 90\", \"3:55:45 Apr. 22nd 91\", \"7:55:45 Jan. 2nd 90\"]\n",
    "pd.to_datetime(dates)"
   ]
  },
  {
   "cell_type": "code",
   "execution_count": 9,
   "id": "6a23658c",
   "metadata": {},
   "outputs": [
    {
     "data": {
      "text/plain": [
       "Timestamp('2012-10-11 00:00:00')"
      ]
     },
     "execution_count": 9,
     "metadata": {},
     "output_type": "execute_result"
    }
   ],
   "source": [
    "pd.to_datetime(\"10/11/12\")"
   ]
  },
  {
   "cell_type": "code",
   "execution_count": 10,
   "id": "d8b5f2f8",
   "metadata": {},
   "outputs": [
    {
     "data": {
      "text/plain": [
       "Timestamp('2012-11-10 00:00:00')"
      ]
     },
     "execution_count": 10,
     "metadata": {},
     "output_type": "execute_result"
    }
   ],
   "source": [
    "pd.to_datetime(\"10/11/12\", dayfirst=True)"
   ]
  },
  {
   "cell_type": "code",
   "execution_count": 11,
   "id": "552282fe",
   "metadata": {},
   "outputs": [
    {
     "data": {
      "text/plain": [
       "Timestamp('2010-11-12 00:00:00')"
      ]
     },
     "execution_count": 11,
     "metadata": {},
     "output_type": "execute_result"
    }
   ],
   "source": [
    "pd.to_datetime(\"10/11/12\", yearfirst=True)"
   ]
  },
  {
   "cell_type": "code",
   "execution_count": 12,
   "id": "3603c03d",
   "metadata": {},
   "outputs": [
    {
     "data": {
      "text/plain": [
       "Timestamp('2010-12-11 00:00:00')"
      ]
     },
     "execution_count": 12,
     "metadata": {},
     "output_type": "execute_result"
    }
   ],
   "source": [
    "pd.to_datetime(\"10/11/12\", yearfirst=True, dayfirst=True)"
   ]
  },
  {
   "cell_type": "code",
   "execution_count": 13,
   "id": "5d3e2580",
   "metadata": {},
   "outputs": [
    {
     "data": {
      "text/plain": [
       "Timestamp('2010-11-12 00:00:00')"
      ]
     },
     "execution_count": 13,
     "metadata": {},
     "output_type": "execute_result"
    }
   ],
   "source": [
    "pd.to_datetime(\"10/11/12\", format=\"%y/%m/%d\")"
   ]
  },
  {
   "cell_type": "code",
   "execution_count": 14,
   "id": "be526794",
   "metadata": {},
   "outputs": [],
   "source": [
    "meeting = [\"Dec 11 2019 Meeting\", \"Jan 6 2020 Meeting\"]\n"
   ]
  },
  {
   "cell_type": "code",
   "execution_count": 15,
   "id": "6ac24699",
   "metadata": {},
   "outputs": [
    {
     "data": {
      "text/plain": [
       "DatetimeIndex(['2019-12-11', '2020-01-06'], dtype='datetime64[ns]', freq=None)"
      ]
     },
     "execution_count": 15,
     "metadata": {},
     "output_type": "execute_result"
    }
   ],
   "source": [
    "pd.to_datetime(meeting, format=\"%b %d %Y Meeting\")"
   ]
  },
  {
   "cell_type": "code",
   "execution_count": 16,
   "id": "887d2bd8",
   "metadata": {},
   "outputs": [],
   "source": [
    "ufos = pd.read_csv(\"data/nuforc_reports.csv\")"
   ]
  },
  {
   "cell_type": "code",
   "execution_count": 17,
   "id": "b1b75653",
   "metadata": {},
   "outputs": [],
   "source": [
    "ufos[\"date\"] = pd.to_datetime(ufos[\"date_time\"])"
   ]
  },
  {
   "cell_type": "code",
   "execution_count": 18,
   "id": "552494b1",
   "metadata": {},
   "outputs": [
    {
     "name": "stdout",
     "output_type": "stream",
     "text": [
      "<class 'pandas.core.frame.DataFrame'>\n",
      "RangeIndex: 88125 entries, 0 to 88124\n",
      "Data columns (total 13 columns):\n",
      " #   Column          Non-Null Count  Dtype         \n",
      "---  ------          --------------  -----         \n",
      " 0   summary         88095 non-null  object        \n",
      " 1   city            87891 non-null  object        \n",
      " 2   state           82890 non-null  object        \n",
      " 3   date_time       86938 non-null  object        \n",
      " 4   shape           85627 non-null  object        \n",
      " 5   duration        84954 non-null  object        \n",
      " 6   stats           88088 non-null  object        \n",
      " 7   report_link     88125 non-null  object        \n",
      " 8   text            88070 non-null  object        \n",
      " 9   posted          86938 non-null  object        \n",
      " 10  city_latitude   72013 non-null  float64       \n",
      " 11  city_longitude  72013 non-null  float64       \n",
      " 12  date            86938 non-null  datetime64[ns]\n",
      "dtypes: datetime64[ns](1), float64(2), object(10)\n",
      "memory usage: 8.7+ MB\n"
     ]
    }
   ],
   "source": [
    "ufos.info()"
   ]
  },
  {
   "cell_type": "code",
   "execution_count": 19,
   "id": "d8243132",
   "metadata": {},
   "outputs": [],
   "source": [
    "ufos = pd.read_csv(\"data/nuforc_reports.csv\", parse_dates=['date_time'])"
   ]
  },
  {
   "cell_type": "code",
   "execution_count": 20,
   "id": "c0040507",
   "metadata": {},
   "outputs": [
    {
     "name": "stdout",
     "output_type": "stream",
     "text": [
      "<class 'pandas.core.frame.DataFrame'>\n",
      "RangeIndex: 88125 entries, 0 to 88124\n",
      "Data columns (total 12 columns):\n",
      " #   Column          Non-Null Count  Dtype         \n",
      "---  ------          --------------  -----         \n",
      " 0   summary         88095 non-null  object        \n",
      " 1   city            87891 non-null  object        \n",
      " 2   state           82890 non-null  object        \n",
      " 3   date_time       86938 non-null  datetime64[ns]\n",
      " 4   shape           85627 non-null  object        \n",
      " 5   duration        84954 non-null  object        \n",
      " 6   stats           88088 non-null  object        \n",
      " 7   report_link     88125 non-null  object        \n",
      " 8   text            88070 non-null  object        \n",
      " 9   posted          86938 non-null  object        \n",
      " 10  city_latitude   72013 non-null  float64       \n",
      " 11  city_longitude  72013 non-null  float64       \n",
      "dtypes: datetime64[ns](1), float64(2), object(9)\n",
      "memory usage: 8.1+ MB\n"
     ]
    }
   ],
   "source": [
    "ufos.info()"
   ]
  },
  {
   "cell_type": "code",
   "execution_count": 21,
   "id": "ca97bde8",
   "metadata": {},
   "outputs": [
    {
     "data": {
      "text/plain": [
       "<AxesSubplot:>"
      ]
     },
     "execution_count": 21,
     "metadata": {},
     "output_type": "execute_result"
    },
    {
     "data": {
      "image/png": "[encoded data removed]",
      "text/plain": [
       "<Figure size 640x480 with 1 Axes>"
      ]
     },
     "metadata": {},
     "output_type": "display_data"
    }
   ],
   "source": [
    "ufos[\"date_time\"].dt.year.value_counts().head(10).plot(kind=\"bar\")"
   ]
  },
  {
   "cell_type": "code",
   "execution_count": 22,
   "id": "6cac42e0",
   "metadata": {},
   "outputs": [
    {
     "data": {
      "text/plain": [
       "7.0     10682\n",
       "8.0      8997\n",
       "9.0      8498\n",
       "10.0     8371\n",
       "6.0      8357\n",
       "11.0     7596\n",
       "12.0     6525\n",
       "5.0      6063\n",
       "1.0      5979\n",
       "4.0      5817\n",
       "3.0      5494\n",
       "2.0      4559\n",
       "Name: date_time, dtype: int64"
      ]
     },
     "execution_count": 22,
     "metadata": {},
     "output_type": "execute_result"
    }
   ],
   "source": [
    "ufos[\"date_time\"].dt.month.value_counts()"
   ]
  },
  {
   "cell_type": "code",
   "execution_count": 23,
   "id": "2c4e361c",
   "metadata": {},
   "outputs": [
    {
     "data": {
      "text/plain": [
       "<AxesSubplot:>"
      ]
     },
     "execution_count": 23,
     "metadata": {},
     "output_type": "execute_result"
    },
    {
     "data": {
      "image/png": "[encoded data removed]",
      "text/plain": [
       "<Figure size 640x480 with 1 Axes>"
      ]
     },
     "metadata": {},
     "output_type": "display_data"
    }
   ],
   "source": [
    "ufos[\"date_time\"].dt.hour.value_counts().plot(kind=\"bar\")"
   ]
  },
  {
   "cell_type": "code",
   "execution_count": 24,
   "id": "2d974dfd",
   "metadata": {},
   "outputs": [
    {
     "data": {
      "text/plain": [
       "5.0    16305\n",
       "4.0    12864\n",
       "6.0    12652\n",
       "3.0    11729\n",
       "2.0    11646\n",
       "1.0    10987\n",
       "0.0    10755\n",
       "Name: date_time, dtype: int64"
      ]
     },
     "execution_count": 24,
     "metadata": {},
     "output_type": "execute_result"
    }
   ],
   "source": [
    "ufos[\"date_time\"].dt.dayofweek.value_counts()"
   ]
  },
  {
   "cell_type": "code",
   "execution_count": 25,
   "id": "dcfce4f3",
   "metadata": {},
   "outputs": [],
   "source": [
    "ufos[\"posted\"] = pd.to_datetime(ufos[\"posted\"])"
   ]
  },
  {
   "cell_type": "code",
   "execution_count": 27,
   "id": "17fdbd8a",
   "metadata": {},
   "outputs": [],
   "source": [
    "ufos[\"time_before_reported\"] = ufos[\"posted\"] - ufos[\"date_time\"]"
   ]
  },
  {
   "cell_type": "code",
   "execution_count": 30,
   "id": "3a669d0f",
   "metadata": {},
   "outputs": [],
   "source": [
    "longest_wait = ufos.sort_values(\"time_before_reported\", ascending=False)"
   ]
  },
  {
   "cell_type": "code",
   "execution_count": 32,
   "id": "d859d55d",
   "metadata": {},
   "outputs": [
    {
     "data": {
      "text/plain": [
       "86762    50.583562\n",
       "87145    50.282192\n",
       "721      50.175342\n",
       "1576     50.101370\n",
       "1580     49.972603\n",
       "           ...    \n",
       "87935          NaN\n",
       "87936          NaN\n",
       "87937          NaN\n",
       "87938          NaN\n",
       "87939          NaN\n",
       "Name: time_before_reported, Length: 88125, dtype: float64"
      ]
     },
     "execution_count": 32,
     "metadata": {},
     "output_type": "execute_result"
    }
   ],
   "source": [
    "longest_wait[\"time_before_reported\"].dt.days / 365"
   ]
  },
  {
   "cell_type": "code",
   "execution_count": 33,
   "id": "6d345aba",
   "metadata": {},
   "outputs": [],
   "source": [
    "ufos[\"days_before_reporting\"] = ufos[\"time_before_reported\"].dt.days"
   ]
  },
  {
   "cell_type": "code",
   "execution_count": 34,
   "id": "252481bc",
   "metadata": {},
   "outputs": [
    {
     "data": {
      "text/html": [
       "<div>\n",
       "<style scoped>\n",
       "    .dataframe tbody tr th:only-of-type {\n",
       "        vertical-align: middle;\n",
       "    }\n",
       "\n",
       "    .dataframe tbody tr th {\n",
       "        vertical-align: top;\n",
       "    }\n",
       "\n",
       "    .dataframe thead th {\n",
       "        text-align: right;\n",
       "    }\n",
       "</style>\n",
       "<table border=\"1\" class=\"dataframe\">\n",
       "  <thead>\n",
       "    <tr style=\"text-align: right;\">\n",
       "      <th></th>\n",
       "      <th>summary</th>\n",
       "      <th>city</th>\n",
       "      <th>state</th>\n",
       "      <th>date_time</th>\n",
       "      <th>shape</th>\n",
       "      <th>duration</th>\n",
       "      <th>stats</th>\n",
       "      <th>report_link</th>\n",
       "      <th>text</th>\n",
       "      <th>posted</th>\n",
       "      <th>city_latitude</th>\n",
       "      <th>city_longitude</th>\n",
       "      <th>time_before_reported</th>\n",
       "      <th>days_before_reporting</th>\n",
       "    </tr>\n",
       "  </thead>\n",
       "  <tbody>\n",
       "    <tr>\n",
       "      <th>0</th>\n",
       "      <td>My wife was driving southeast on a fairly popu...</td>\n",
       "      <td>Chester</td>\n",
       "      <td>VA</td>\n",
       "      <td>2019-12-12 18:43:00</td>\n",
       "      <td>light</td>\n",
       "      <td>5 seconds</td>\n",
       "      <td>Occurred : 12/12/2019 18:43  (Entered as : 12/...</td>\n",
       "      <td>http://www.nuforc.org/webreports/151/S151739.html</td>\n",
       "      <td>My wife was driving southeast on a fairly popu...</td>\n",
       "      <td>2019-12-22</td>\n",
       "      <td>37.343152</td>\n",
       "      <td>-77.408582</td>\n",
       "      <td>9 days 05:17:00</td>\n",
       "      <td>9.0</td>\n",
       "    </tr>\n",
       "    <tr>\n",
       "      <th>1</th>\n",
       "      <td>I think that I may caught a UFO on the NBC Nig...</td>\n",
       "      <td>Rocky Hill</td>\n",
       "      <td>CT</td>\n",
       "      <td>2019-03-22 18:30:00</td>\n",
       "      <td>circle</td>\n",
       "      <td>3-5 seconds</td>\n",
       "      <td>Occurred : 3/22/2019 18:30  (Entered as : 03/2...</td>\n",
       "      <td>http://www.nuforc.org/webreports/145/S145297.html</td>\n",
       "      <td>I think that I may caught a UFO on the NBC Nig...</td>\n",
       "      <td>2019-03-29</td>\n",
       "      <td>41.664800</td>\n",
       "      <td>-72.639300</td>\n",
       "      <td>6 days 05:30:00</td>\n",
       "      <td>6.0</td>\n",
       "    </tr>\n",
       "    <tr>\n",
       "      <th>2</th>\n",
       "      <td>I woke up late in the afternoon 3:30-4pm. I we...</td>\n",
       "      <td>NaN</td>\n",
       "      <td>NaN</td>\n",
       "      <td>NaT</td>\n",
       "      <td>NaN</td>\n",
       "      <td>NaN</td>\n",
       "      <td>Occurred : 4/1/2019 15:45  (Entered as : April...</td>\n",
       "      <td>http://www.nuforc.org/webreports/145/S145556.html</td>\n",
       "      <td>I woke up late in the afternoon 3:30-4pm.  I w...</td>\n",
       "      <td>NaT</td>\n",
       "      <td>NaN</td>\n",
       "      <td>NaN</td>\n",
       "      <td>NaT</td>\n",
       "      <td>NaN</td>\n",
       "    </tr>\n",
       "    <tr>\n",
       "      <th>3</th>\n",
       "      <td>I was driving towards the intersection of fall...</td>\n",
       "      <td>Ottawa</td>\n",
       "      <td>ON</td>\n",
       "      <td>2019-04-17 02:00:00</td>\n",
       "      <td>teardrop</td>\n",
       "      <td>10 seconds</td>\n",
       "      <td>Occurred : 4/17/2019 02:00  (Entered as : 04-1...</td>\n",
       "      <td>http://www.nuforc.org/webreports/145/S145697.html</td>\n",
       "      <td>I was driving towards the intersection of fall...</td>\n",
       "      <td>2019-04-18</td>\n",
       "      <td>45.381383</td>\n",
       "      <td>-75.708501</td>\n",
       "      <td>0 days 22:00:00</td>\n",
       "      <td>0.0</td>\n",
       "    </tr>\n",
       "    <tr>\n",
       "      <th>4</th>\n",
       "      <td>In Peoria Arizona, I saw a cigar shaped craft ...</td>\n",
       "      <td>Peoria</td>\n",
       "      <td>NY</td>\n",
       "      <td>2009-03-15 18:00:00</td>\n",
       "      <td>cigar</td>\n",
       "      <td>2 minutes</td>\n",
       "      <td>Occurred : 3/15/2009 18:00  (Entered as : 03/1...</td>\n",
       "      <td>http://www.nuforc.org/webreports/145/S145723.html</td>\n",
       "      <td>In Peoria, Arizona, I saw a cigar shaped craft...</td>\n",
       "      <td>2019-04-18</td>\n",
       "      <td>NaN</td>\n",
       "      <td>NaN</td>\n",
       "      <td>3685 days 06:00:00</td>\n",
       "      <td>3685.0</td>\n",
       "    </tr>\n",
       "    <tr>\n",
       "      <th>...</th>\n",
       "      <td>...</td>\n",
       "      <td>...</td>\n",
       "      <td>...</td>\n",
       "      <td>...</td>\n",
       "      <td>...</td>\n",
       "      <td>...</td>\n",
       "      <td>...</td>\n",
       "      <td>...</td>\n",
       "      <td>...</td>\n",
       "      <td>...</td>\n",
       "      <td>...</td>\n",
       "      <td>...</td>\n",
       "      <td>...</td>\n",
       "      <td>...</td>\n",
       "    </tr>\n",
       "    <tr>\n",
       "      <th>88120</th>\n",
       "      <td>4 lights in formation over Tempe appear while ...</td>\n",
       "      <td>Tempe</td>\n",
       "      <td>AZ</td>\n",
       "      <td>2019-10-02 20:00:00</td>\n",
       "      <td>formation</td>\n",
       "      <td>3 minutes</td>\n",
       "      <td>Occurred : 10/2/2019 20:00  (Entered as : 10/2...</td>\n",
       "      <td>http://www.nuforc.org/webreports/149/S149463.html</td>\n",
       "      <td>4 lights in formation over Tempe appear while ...</td>\n",
       "      <td>2019-10-04</td>\n",
       "      <td>33.414036</td>\n",
       "      <td>-111.920920</td>\n",
       "      <td>1 days 04:00:00</td>\n",
       "      <td>1.0</td>\n",
       "    </tr>\n",
       "    <tr>\n",
       "      <th>88121</th>\n",
       "      <td>2 bright star like lights in the NNW skys,  ((...</td>\n",
       "      <td>Bolivar</td>\n",
       "      <td>MO</td>\n",
       "      <td>2019-10-02 20:00:00</td>\n",
       "      <td>light</td>\n",
       "      <td>20 seconds</td>\n",
       "      <td>Occurred : 10/2/2019 20:00  (Entered as : 10/0...</td>\n",
       "      <td>http://www.nuforc.org/webreports/149/S149405.html</td>\n",
       "      <td>2 bright star like lights in the NNW sky two b...</td>\n",
       "      <td>2019-10-04</td>\n",
       "      <td>37.642200</td>\n",
       "      <td>-93.399600</td>\n",
       "      <td>1 days 04:00:00</td>\n",
       "      <td>1.0</td>\n",
       "    </tr>\n",
       "    <tr>\n",
       "      <th>88122</th>\n",
       "      <td>I just witnessed a ‘Phoenix Lights’ type of fo...</td>\n",
       "      <td>North Port</td>\n",
       "      <td>FL</td>\n",
       "      <td>2019-10-02 20:03:00</td>\n",
       "      <td>formation</td>\n",
       "      <td>20 seconds</td>\n",
       "      <td>Occurred : 10/2/2019 20:03  (Entered as : 10/0...</td>\n",
       "      <td>http://www.nuforc.org/webreports/149/S149424.html</td>\n",
       "      <td>10/2/19 @ 8:03PM EST  UFO SIGHTING in the 3428...</td>\n",
       "      <td>2019-10-04</td>\n",
       "      <td>27.076210</td>\n",
       "      <td>-82.223280</td>\n",
       "      <td>1 days 03:57:00</td>\n",
       "      <td>1.0</td>\n",
       "    </tr>\n",
       "    <tr>\n",
       "      <th>88123</th>\n",
       "      <td>Witnessed an orange, slow moving light. Was lo...</td>\n",
       "      <td>Black Mountain</td>\n",
       "      <td>NC</td>\n",
       "      <td>2019-10-02 22:00:00</td>\n",
       "      <td>fireball</td>\n",
       "      <td>2 minutes</td>\n",
       "      <td>Occurred : 10/2/2019 22:00  (Entered as : 10/0...</td>\n",
       "      <td>http://www.nuforc.org/webreports/149/S149447.html</td>\n",
       "      <td>Witnessed an orange, slow moving light. Was lo...</td>\n",
       "      <td>2019-10-04</td>\n",
       "      <td>35.605000</td>\n",
       "      <td>-82.313200</td>\n",
       "      <td>1 days 02:00:00</td>\n",
       "      <td>1.0</td>\n",
       "    </tr>\n",
       "    <tr>\n",
       "      <th>88124</th>\n",
       "      <td>Glowing lights in formation  just south of San...</td>\n",
       "      <td>Marin County</td>\n",
       "      <td>CA</td>\n",
       "      <td>2019-10-02 22:00:00</td>\n",
       "      <td>sphere</td>\n",
       "      <td>3 minutes</td>\n",
       "      <td>Occurred : 10/2/2019 22:00  (Entered as : 10-0...</td>\n",
       "      <td>http://www.nuforc.org/webreports/149/S149436.html</td>\n",
       "      <td>Glowing lights in formation  just south of San...</td>\n",
       "      <td>2019-10-04</td>\n",
       "      <td>NaN</td>\n",
       "      <td>NaN</td>\n",
       "      <td>1 days 02:00:00</td>\n",
       "      <td>1.0</td>\n",
       "    </tr>\n",
       "  </tbody>\n",
       "</table>\n",
       "<p>88125 rows × 14 columns</p>\n",
       "</div>"
      ],
      "text/plain": [
       "                                                 summary            city  \\\n",
       "0      My wife was driving southeast on a fairly popu...         Chester   \n",
       "1      I think that I may caught a UFO on the NBC Nig...      Rocky Hill   \n",
       "2      I woke up late in the afternoon 3:30-4pm. I we...             NaN   \n",
       "3      I was driving towards the intersection of fall...          Ottawa   \n",
       "4      In Peoria Arizona, I saw a cigar shaped craft ...          Peoria   \n",
       "...                                                  ...             ...   \n",
       "88120  4 lights in formation over Tempe appear while ...           Tempe   \n",
       "88121  2 bright star like lights in the NNW skys,  ((...         Bolivar   \n",
       "88122  I just witnessed a ‘Phoenix Lights’ type of fo...      North Port   \n",
       "88123  Witnessed an orange, slow moving light. Was lo...  Black Mountain   \n",
       "88124  Glowing lights in formation  just south of San...    Marin County   \n",
       "\n",
       "      state           date_time      shape     duration  \\\n",
       "0        VA 2019-12-12 18:43:00      light    5 seconds   \n",
       "1        CT 2019-03-22 18:30:00     circle  3-5 seconds   \n",
       "2       NaN                 NaT        NaN          NaN   \n",
       "3        ON 2019-04-17 02:00:00   teardrop   10 seconds   \n",
       "4        NY 2009-03-15 18:00:00      cigar    2 minutes   \n",
       "...     ...                 ...        ...          ...   \n",
       "88120    AZ 2019-10-02 20:00:00  formation    3 minutes   \n",
       "88121    MO 2019-10-02 20:00:00      light   20 seconds   \n",
       "88122    FL 2019-10-02 20:03:00  formation   20 seconds   \n",
       "88123    NC 2019-10-02 22:00:00   fireball    2 minutes   \n",
       "88124    CA 2019-10-02 22:00:00     sphere    3 minutes   \n",
       "\n",
       "                                                   stats  \\\n",
       "0      Occurred : 12/12/2019 18:43  (Entered as : 12/...   \n",
       "1      Occurred : 3/22/2019 18:30  (Entered as : 03/2...   \n",
       "2      Occurred : 4/1/2019 15:45  (Entered as : April...   \n",
       "3      Occurred : 4/17/2019 02:00  (Entered as : 04-1...   \n",
       "4      Occurred : 3/15/2009 18:00  (Entered as : 03/1...   \n",
       "...                                                  ...   \n",
       "88120  Occurred : 10/2/2019 20:00  (Entered as : 10/2...   \n",
       "88121  Occurred : 10/2/2019 20:00  (Entered as : 10/0...   \n",
       "88122  Occurred : 10/2/2019 20:03  (Entered as : 10/0...   \n",
       "88123  Occurred : 10/2/2019 22:00  (Entered as : 10/0...   \n",
       "88124  Occurred : 10/2/2019 22:00  (Entered as : 10-0...   \n",
       "\n",
       "                                             report_link  \\\n",
       "0      http://www.nuforc.org/webreports/151/S151739.html   \n",
       "1      http://www.nuforc.org/webreports/145/S145297.html   \n",
       "2      http://www.nuforc.org/webreports/145/S145556.html   \n",
       "3      http://www.nuforc.org/webreports/145/S145697.html   \n",
       "4      http://www.nuforc.org/webreports/145/S145723.html   \n",
       "...                                                  ...   \n",
       "88120  http://www.nuforc.org/webreports/149/S149463.html   \n",
       "88121  http://www.nuforc.org/webreports/149/S149405.html   \n",
       "88122  http://www.nuforc.org/webreports/149/S149424.html   \n",
       "88123  http://www.nuforc.org/webreports/149/S149447.html   \n",
       "88124  http://www.nuforc.org/webreports/149/S149436.html   \n",
       "\n",
       "                                                    text     posted  \\\n",
       "0      My wife was driving southeast on a fairly popu... 2019-12-22   \n",
       "1      I think that I may caught a UFO on the NBC Nig... 2019-03-29   \n",
       "2      I woke up late in the afternoon 3:30-4pm.  I w...        NaT   \n",
       "3      I was driving towards the intersection of fall... 2019-04-18   \n",
       "4      In Peoria, Arizona, I saw a cigar shaped craft... 2019-04-18   \n",
       "...                                                  ...        ...   \n",
       "88120  4 lights in formation over Tempe appear while ... 2019-10-04   \n",
       "88121  2 bright star like lights in the NNW sky two b... 2019-10-04   \n",
       "88122  10/2/19 @ 8:03PM EST  UFO SIGHTING in the 3428... 2019-10-04   \n",
       "88123  Witnessed an orange, slow moving light. Was lo... 2019-10-04   \n",
       "88124  Glowing lights in formation  just south of San... 2019-10-04   \n",
       "\n",
       "       city_latitude  city_longitude time_before_reported  \\\n",
       "0          37.343152      -77.408582      9 days 05:17:00   \n",
       "1          41.664800      -72.639300      6 days 05:30:00   \n",
       "2                NaN             NaN                  NaT   \n",
       "3          45.381383      -75.708501      0 days 22:00:00   \n",
       "4                NaN             NaN   3685 days 06:00:00   \n",
       "...              ...             ...                  ...   \n",
       "88120      33.414036     -111.920920      1 days 04:00:00   \n",
       "88121      37.642200      -93.399600      1 days 04:00:00   \n",
       "88122      27.076210      -82.223280      1 days 03:57:00   \n",
       "88123      35.605000      -82.313200      1 days 02:00:00   \n",
       "88124            NaN             NaN      1 days 02:00:00   \n",
       "\n",
       "       days_before_reporting  \n",
       "0                        9.0  \n",
       "1                        6.0  \n",
       "2                        NaN  \n",
       "3                        0.0  \n",
       "4                     3685.0  \n",
       "...                      ...  \n",
       "88120                    1.0  \n",
       "88121                    1.0  \n",
       "88122                    1.0  \n",
       "88123                    1.0  \n",
       "88124                    1.0  \n",
       "\n",
       "[88125 rows x 14 columns]"
      ]
     },
     "execution_count": 34,
     "metadata": {},
     "output_type": "execute_result"
    }
   ],
   "source": [
    "ufos"
   ]
  },
  {
   "cell_type": "code",
   "execution_count": 36,
   "id": "2001d3b0",
   "metadata": {},
   "outputs": [],
   "source": [
    "charts = pd.read_csv(\"data/billboard_charts.csv\", parse_dates=[\"date\"])"
   ]
  },
  {
   "cell_type": "code",
   "execution_count": 38,
   "id": "6dc0a9f5",
   "metadata": {},
   "outputs": [
    {
     "data": {
      "text/plain": [
       "<AxesSubplot:>"
      ]
     },
     "execution_count": 38,
     "metadata": {},
     "output_type": "execute_result"
    },
    {
     "data": {
      "image/png": "[encoded data removed]",
      "text/plain": [
       "<Figure size 640x480 with 1 Axes>"
      ]
     },
     "metadata": {},
     "output_type": "display_data"
    }
   ],
   "source": [
    "charts[\"artist\"].value_counts().head(10).plot(kind=\"bar\")"
   ]
  },
  {
   "cell_type": "code",
   "execution_count": 39,
   "id": "51e2765c",
   "metadata": {},
   "outputs": [],
   "source": [
    "number_ls = charts[\"rank\"] == 1"
   ]
  },
  {
   "cell_type": "code",
   "execution_count": 45,
   "id": "5b664ae8",
   "metadata": {},
   "outputs": [
    {
     "data": {
      "text/plain": [
       "<AxesSubplot:>"
      ]
     },
     "execution_count": 45,
     "metadata": {},
     "output_type": "execute_result"
    },
    {
     "data": {
      "image/png": "[encoded data removed]",
      "text/plain": [
       "<Figure size 640x480 with 1 Axes>"
      ]
     },
     "metadata": {},
     "output_type": "display_data"
    }
   ],
   "source": [
    "charts[number_ls][\"artist\"].value_counts().head(10).plot(kind=\"bar\")"
   ]
  },
  {
   "cell_type": "code",
   "execution_count": 46,
   "id": "fc098769",
   "metadata": {},
   "outputs": [
    {
     "data": {
      "text/plain": [
       "Old Town Road                               19\n",
       "Despacito                                   16\n",
       "One Sweet Day                               16\n",
       "Rockstar                                    15\n",
       "I'll Make Love To You                       14\n",
       "                                            ..\n",
       "Then Came You                                1\n",
       "You Haven't Done Nothin                      1\n",
       "You Ain't Seen Nothing Yet/Free Wheelin'     1\n",
       "Whatever Gets You Thru The Night             1\n",
       "I'll Take You There                          1\n",
       "Name: song, Length: 1104, dtype: int64"
      ]
     },
     "execution_count": 46,
     "metadata": {},
     "output_type": "execute_result"
    }
   ],
   "source": [
    "charts[number_ls][\"song\"].value_counts()"
   ]
  },
  {
   "cell_type": "code",
   "execution_count": 51,
   "id": "2a0154fe",
   "metadata": {},
   "outputs": [
    {
     "data": {
      "text/plain": [
       "<AxesSubplot:xlabel='date'>"
      ]
     },
     "execution_count": 51,
     "metadata": {},
     "output_type": "execute_result"
    },
    {
     "data": {
      "image/png": "[encoded data removed]",
      "text/plain": [
       "<Figure size 640x480 with 1 Axes>"
      ]
     },
     "metadata": {},
     "output_type": "display_data"
    }
   ],
   "source": [
    "charts[charts[\"song\"] == \"Old Town Road\"].set_index('date')[\"rank\"].plot()"
   ]
  },
  {
   "cell_type": "code",
   "execution_count": 52,
   "id": "75b04a4b",
   "metadata": {},
   "outputs": [
    {
     "data": {
      "image/png": "[encoded data removed]",
      "text/plain": [
       "<Figure size 640x480 with 1 Axes>"
      ]
     },
     "metadata": {},
     "output_type": "display_data"
    }
   ],
   "source": [
    "charts[charts[\"song\"] == \"Old Town Road\"].set_index('date')[\"rank\"].plot().invert_yaxis()"
   ]
  },
  {
   "cell_type": "code",
   "execution_count": 57,
   "id": "c8441cdc",
   "metadata": {},
   "outputs": [],
   "source": [
    "house = pd.read_csv(\"data/kc_house_data.csv\", parse_dates=['date'])"
   ]
  },
  {
   "cell_type": "code",
   "execution_count": 67,
   "id": "66ee9582",
   "metadata": {},
   "outputs": [
    {
     "data": {
      "text/plain": [
       "Timedelta('390 days 00:00:00')"
      ]
     },
     "execution_count": 67,
     "metadata": {},
     "output_type": "execute_result"
    }
   ],
   "source": [
    "house['date'].max() - house['date'].min()"
   ]
  },
  {
   "cell_type": "code",
   "execution_count": 76,
   "id": "d2005b0f",
   "metadata": {},
   "outputs": [
    {
     "data": {
      "text/html": [
       "<div>\n",
       "<style scoped>\n",
       "    .dataframe tbody tr th:only-of-type {\n",
       "        vertical-align: middle;\n",
       "    }\n",
       "\n",
       "    .dataframe tbody tr th {\n",
       "        vertical-align: top;\n",
       "    }\n",
       "\n",
       "    .dataframe thead th {\n",
       "        text-align: right;\n",
       "    }\n",
       "</style>\n",
       "<table border=\"1\" class=\"dataframe\">\n",
       "  <thead>\n",
       "    <tr style=\"text-align: right;\">\n",
       "      <th></th>\n",
       "      <th>id</th>\n",
       "      <th>date</th>\n",
       "      <th>price</th>\n",
       "      <th>bedrooms</th>\n",
       "      <th>bathrooms</th>\n",
       "      <th>sqft_living</th>\n",
       "      <th>sqft_lot</th>\n",
       "      <th>floors</th>\n",
       "      <th>waterfront</th>\n",
       "      <th>view</th>\n",
       "      <th>...</th>\n",
       "      <th>grade</th>\n",
       "      <th>sqft_above</th>\n",
       "      <th>sqft_basement</th>\n",
       "      <th>yr_built</th>\n",
       "      <th>yr_renovated</th>\n",
       "      <th>zipcode</th>\n",
       "      <th>lat</th>\n",
       "      <th>long</th>\n",
       "      <th>sqft_living15</th>\n",
       "      <th>sqft_lot15</th>\n",
       "    </tr>\n",
       "  </thead>\n",
       "  <tbody>\n",
       "    <tr>\n",
       "      <th>117</th>\n",
       "      <td>4060000240</td>\n",
       "      <td>2014-06-23</td>\n",
       "      <td>205425.0</td>\n",
       "      <td>2</td>\n",
       "      <td>1.00</td>\n",
       "      <td>880</td>\n",
       "      <td>6780</td>\n",
       "      <td>1.0</td>\n",
       "      <td>0</td>\n",
       "      <td>0</td>\n",
       "      <td>...</td>\n",
       "      <td>6</td>\n",
       "      <td>880</td>\n",
       "      <td>0</td>\n",
       "      <td>1945</td>\n",
       "      <td>0</td>\n",
       "      <td>98178</td>\n",
       "      <td>47.5009</td>\n",
       "      <td>-122.248</td>\n",
       "      <td>1190</td>\n",
       "      <td>6780</td>\n",
       "    </tr>\n",
       "    <tr>\n",
       "      <th>397</th>\n",
       "      <td>5175800060</td>\n",
       "      <td>2014-06-23</td>\n",
       "      <td>365000.0</td>\n",
       "      <td>4</td>\n",
       "      <td>2.00</td>\n",
       "      <td>1940</td>\n",
       "      <td>25600</td>\n",
       "      <td>1.0</td>\n",
       "      <td>0</td>\n",
       "      <td>0</td>\n",
       "      <td>...</td>\n",
       "      <td>8</td>\n",
       "      <td>1940</td>\n",
       "      <td>0</td>\n",
       "      <td>1962</td>\n",
       "      <td>0</td>\n",
       "      <td>98006</td>\n",
       "      <td>47.5722</td>\n",
       "      <td>-122.129</td>\n",
       "      <td>2000</td>\n",
       "      <td>10071</td>\n",
       "    </tr>\n",
       "    <tr>\n",
       "      <th>470</th>\n",
       "      <td>2172000075</td>\n",
       "      <td>2014-06-23</td>\n",
       "      <td>290900.0</td>\n",
       "      <td>2</td>\n",
       "      <td>2.00</td>\n",
       "      <td>1610</td>\n",
       "      <td>17600</td>\n",
       "      <td>2.0</td>\n",
       "      <td>0</td>\n",
       "      <td>0</td>\n",
       "      <td>...</td>\n",
       "      <td>6</td>\n",
       "      <td>1610</td>\n",
       "      <td>0</td>\n",
       "      <td>1930</td>\n",
       "      <td>1983</td>\n",
       "      <td>98178</td>\n",
       "      <td>47.4855</td>\n",
       "      <td>-122.266</td>\n",
       "      <td>1310</td>\n",
       "      <td>12950</td>\n",
       "    </tr>\n",
       "    <tr>\n",
       "      <th>621</th>\n",
       "      <td>3010300240</td>\n",
       "      <td>2014-06-23</td>\n",
       "      <td>577000.0</td>\n",
       "      <td>3</td>\n",
       "      <td>2.50</td>\n",
       "      <td>2060</td>\n",
       "      <td>5750</td>\n",
       "      <td>1.0</td>\n",
       "      <td>0</td>\n",
       "      <td>0</td>\n",
       "      <td>...</td>\n",
       "      <td>7</td>\n",
       "      <td>1330</td>\n",
       "      <td>730</td>\n",
       "      <td>1976</td>\n",
       "      <td>0</td>\n",
       "      <td>98116</td>\n",
       "      <td>47.5671</td>\n",
       "      <td>-122.391</td>\n",
       "      <td>1920</td>\n",
       "      <td>5750</td>\n",
       "    </tr>\n",
       "    <tr>\n",
       "      <th>676</th>\n",
       "      <td>7846700310</td>\n",
       "      <td>2014-06-23</td>\n",
       "      <td>280000.0</td>\n",
       "      <td>2</td>\n",
       "      <td>1.00</td>\n",
       "      <td>1010</td>\n",
       "      <td>3000</td>\n",
       "      <td>1.0</td>\n",
       "      <td>0</td>\n",
       "      <td>0</td>\n",
       "      <td>...</td>\n",
       "      <td>7</td>\n",
       "      <td>1010</td>\n",
       "      <td>0</td>\n",
       "      <td>1925</td>\n",
       "      <td>0</td>\n",
       "      <td>98045</td>\n",
       "      <td>47.4965</td>\n",
       "      <td>-121.785</td>\n",
       "      <td>1150</td>\n",
       "      <td>7000</td>\n",
       "    </tr>\n",
       "    <tr>\n",
       "      <th>...</th>\n",
       "      <td>...</td>\n",
       "      <td>...</td>\n",
       "      <td>...</td>\n",
       "      <td>...</td>\n",
       "      <td>...</td>\n",
       "      <td>...</td>\n",
       "      <td>...</td>\n",
       "      <td>...</td>\n",
       "      <td>...</td>\n",
       "      <td>...</td>\n",
       "      <td>...</td>\n",
       "      <td>...</td>\n",
       "      <td>...</td>\n",
       "      <td>...</td>\n",
       "      <td>...</td>\n",
       "      <td>...</td>\n",
       "      <td>...</td>\n",
       "      <td>...</td>\n",
       "      <td>...</td>\n",
       "      <td>...</td>\n",
       "      <td>...</td>\n",
       "    </tr>\n",
       "    <tr>\n",
       "      <th>21230</th>\n",
       "      <td>3629990280</td>\n",
       "      <td>2014-06-23</td>\n",
       "      <td>497000.0</td>\n",
       "      <td>3</td>\n",
       "      <td>2.25</td>\n",
       "      <td>1630</td>\n",
       "      <td>3817</td>\n",
       "      <td>2.0</td>\n",
       "      <td>0</td>\n",
       "      <td>0</td>\n",
       "      <td>...</td>\n",
       "      <td>7</td>\n",
       "      <td>1630</td>\n",
       "      <td>0</td>\n",
       "      <td>2005</td>\n",
       "      <td>0</td>\n",
       "      <td>98029</td>\n",
       "      <td>47.5485</td>\n",
       "      <td>-121.999</td>\n",
       "      <td>1630</td>\n",
       "      <td>3348</td>\n",
       "    </tr>\n",
       "    <tr>\n",
       "      <th>21479</th>\n",
       "      <td>6181500120</td>\n",
       "      <td>2014-06-23</td>\n",
       "      <td>312891.0</td>\n",
       "      <td>5</td>\n",
       "      <td>3.00</td>\n",
       "      <td>2300</td>\n",
       "      <td>8214</td>\n",
       "      <td>2.0</td>\n",
       "      <td>0</td>\n",
       "      <td>0</td>\n",
       "      <td>...</td>\n",
       "      <td>8</td>\n",
       "      <td>2300</td>\n",
       "      <td>0</td>\n",
       "      <td>2013</td>\n",
       "      <td>0</td>\n",
       "      <td>98001</td>\n",
       "      <td>47.3052</td>\n",
       "      <td>-122.276</td>\n",
       "      <td>2594</td>\n",
       "      <td>4950</td>\n",
       "    </tr>\n",
       "    <tr>\n",
       "      <th>21529</th>\n",
       "      <td>2487200490</td>\n",
       "      <td>2014-06-23</td>\n",
       "      <td>670000.0</td>\n",
       "      <td>3</td>\n",
       "      <td>2.50</td>\n",
       "      <td>3310</td>\n",
       "      <td>5300</td>\n",
       "      <td>2.0</td>\n",
       "      <td>0</td>\n",
       "      <td>2</td>\n",
       "      <td>...</td>\n",
       "      <td>8</td>\n",
       "      <td>2440</td>\n",
       "      <td>870</td>\n",
       "      <td>2008</td>\n",
       "      <td>0</td>\n",
       "      <td>98136</td>\n",
       "      <td>47.5178</td>\n",
       "      <td>-122.389</td>\n",
       "      <td>2140</td>\n",
       "      <td>7500</td>\n",
       "    </tr>\n",
       "    <tr>\n",
       "      <th>21578</th>\n",
       "      <td>567000385</td>\n",
       "      <td>2014-06-23</td>\n",
       "      <td>362500.0</td>\n",
       "      <td>2</td>\n",
       "      <td>1.50</td>\n",
       "      <td>940</td>\n",
       "      <td>1768</td>\n",
       "      <td>2.0</td>\n",
       "      <td>0</td>\n",
       "      <td>0</td>\n",
       "      <td>...</td>\n",
       "      <td>7</td>\n",
       "      <td>940</td>\n",
       "      <td>0</td>\n",
       "      <td>2009</td>\n",
       "      <td>0</td>\n",
       "      <td>98144</td>\n",
       "      <td>47.5925</td>\n",
       "      <td>-122.295</td>\n",
       "      <td>1130</td>\n",
       "      <td>1159</td>\n",
       "    </tr>\n",
       "    <tr>\n",
       "      <th>21610</th>\n",
       "      <td>1523300141</td>\n",
       "      <td>2014-06-23</td>\n",
       "      <td>402101.0</td>\n",
       "      <td>2</td>\n",
       "      <td>0.75</td>\n",
       "      <td>1020</td>\n",
       "      <td>1350</td>\n",
       "      <td>2.0</td>\n",
       "      <td>0</td>\n",
       "      <td>0</td>\n",
       "      <td>...</td>\n",
       "      <td>7</td>\n",
       "      <td>1020</td>\n",
       "      <td>0</td>\n",
       "      <td>2009</td>\n",
       "      <td>0</td>\n",
       "      <td>98144</td>\n",
       "      <td>47.5944</td>\n",
       "      <td>-122.299</td>\n",
       "      <td>1020</td>\n",
       "      <td>2007</td>\n",
       "    </tr>\n",
       "  </tbody>\n",
       "</table>\n",
       "<p>142 rows × 21 columns</p>\n",
       "</div>"
      ],
      "text/plain": [
       "               id       date     price  bedrooms  bathrooms  sqft_living  \\\n",
       "117    4060000240 2014-06-23  205425.0         2       1.00          880   \n",
       "397    5175800060 2014-06-23  365000.0         4       2.00         1940   \n",
       "470    2172000075 2014-06-23  290900.0         2       2.00         1610   \n",
       "621    3010300240 2014-06-23  577000.0         3       2.50         2060   \n",
       "676    7846700310 2014-06-23  280000.0         2       1.00         1010   \n",
       "...           ...        ...       ...       ...        ...          ...   \n",
       "21230  3629990280 2014-06-23  497000.0         3       2.25         1630   \n",
       "21479  6181500120 2014-06-23  312891.0         5       3.00         2300   \n",
       "21529  2487200490 2014-06-23  670000.0         3       2.50         3310   \n",
       "21578   567000385 2014-06-23  362500.0         2       1.50          940   \n",
       "21610  1523300141 2014-06-23  402101.0         2       0.75         1020   \n",
       "\n",
       "       sqft_lot  floors  waterfront  view  ...  grade  sqft_above  \\\n",
       "117        6780     1.0           0     0  ...      6         880   \n",
       "397       25600     1.0           0     0  ...      8        1940   \n",
       "470       17600     2.0           0     0  ...      6        1610   \n",
       "621        5750     1.0           0     0  ...      7        1330   \n",
       "676        3000     1.0           0     0  ...      7        1010   \n",
       "...         ...     ...         ...   ...  ...    ...         ...   \n",
       "21230      3817     2.0           0     0  ...      7        1630   \n",
       "21479      8214     2.0           0     0  ...      8        2300   \n",
       "21529      5300     2.0           0     2  ...      8        2440   \n",
       "21578      1768     2.0           0     0  ...      7         940   \n",
       "21610      1350     2.0           0     0  ...      7        1020   \n",
       "\n",
       "       sqft_basement  yr_built  yr_renovated  zipcode      lat     long  \\\n",
       "117                0      1945             0    98178  47.5009 -122.248   \n",
       "397                0      1962             0    98006  47.5722 -122.129   \n",
       "470                0      1930          1983    98178  47.4855 -122.266   \n",
       "621              730      1976             0    98116  47.5671 -122.391   \n",
       "676                0      1925             0    98045  47.4965 -121.785   \n",
       "...              ...       ...           ...      ...      ...      ...   \n",
       "21230              0      2005             0    98029  47.5485 -121.999   \n",
       "21479              0      2013             0    98001  47.3052 -122.276   \n",
       "21529            870      2008             0    98136  47.5178 -122.389   \n",
       "21578              0      2009             0    98144  47.5925 -122.295   \n",
       "21610              0      2009             0    98144  47.5944 -122.299   \n",
       "\n",
       "       sqft_living15  sqft_lot15  \n",
       "117             1190        6780  \n",
       "397             2000       10071  \n",
       "470             1310       12950  \n",
       "621             1920        5750  \n",
       "676             1150        7000  \n",
       "...              ...         ...  \n",
       "21230           1630        3348  \n",
       "21479           2594        4950  \n",
       "21529           2140        7500  \n",
       "21578           1130        1159  \n",
       "21610           1020        2007  \n",
       "\n",
       "[142 rows x 21 columns]"
      ]
     },
     "execution_count": 76,
     "metadata": {},
     "output_type": "execute_result"
    }
   ],
   "source": [
    "p = house[\"date\"].mode()[0]\n",
    "house[house['date']==p]"
   ]
  },
  {
   "cell_type": "code",
   "execution_count": 95,
   "id": "76304d88",
   "metadata": {},
   "outputs": [
    {
     "data": {
      "text/plain": [
       "<AxesSubplot:ylabel='date'>"
      ]
     },
     "execution_count": 95,
     "metadata": {},
     "output_type": "execute_result"
    },
    {
     "data": {
      "image/png": "[encoded data removed]",
      "text/plain": [
       "<Figure size 640x480 with 1 Axes>"
      ]
     },
     "metadata": {},
     "output_type": "display_data"
    }
   ],
   "source": [
    "house[(house['date'].dt.year==2014) | (house['date'].dt.year==2015)]['date'].dt.year.value_counts().plot(kind='pie')"
   ]
  },
  {
   "cell_type": "code",
   "execution_count": 98,
   "id": "7129cbb7",
   "metadata": {},
   "outputs": [
    {
     "data": {
      "text/html": [
       "<div>\n",
       "<style scoped>\n",
       "    .dataframe tbody tr th:only-of-type {\n",
       "        vertical-align: middle;\n",
       "    }\n",
       "\n",
       "    .dataframe tbody tr th {\n",
       "        vertical-align: top;\n",
       "    }\n",
       "\n",
       "    .dataframe thead th {\n",
       "        text-align: right;\n",
       "    }\n",
       "</style>\n",
       "<table border=\"1\" class=\"dataframe\">\n",
       "  <thead>\n",
       "    <tr style=\"text-align: right;\">\n",
       "      <th></th>\n",
       "      <th>id</th>\n",
       "      <th>date</th>\n",
       "      <th>price</th>\n",
       "      <th>bedrooms</th>\n",
       "      <th>bathrooms</th>\n",
       "      <th>sqft_living</th>\n",
       "      <th>sqft_lot</th>\n",
       "      <th>floors</th>\n",
       "      <th>waterfront</th>\n",
       "      <th>view</th>\n",
       "      <th>...</th>\n",
       "      <th>grade</th>\n",
       "      <th>sqft_above</th>\n",
       "      <th>sqft_basement</th>\n",
       "      <th>yr_built</th>\n",
       "      <th>yr_renovated</th>\n",
       "      <th>zipcode</th>\n",
       "      <th>lat</th>\n",
       "      <th>long</th>\n",
       "      <th>sqft_living15</th>\n",
       "      <th>sqft_lot15</th>\n",
       "    </tr>\n",
       "  </thead>\n",
       "  <tbody>\n",
       "    <tr>\n",
       "      <th>11907</th>\n",
       "      <td>3221059036</td>\n",
       "      <td>2014-05-02</td>\n",
       "      <td>400000.0</td>\n",
       "      <td>4</td>\n",
       "      <td>2.50</td>\n",
       "      <td>3630</td>\n",
       "      <td>42884</td>\n",
       "      <td>1.5</td>\n",
       "      <td>0</td>\n",
       "      <td>0</td>\n",
       "      <td>...</td>\n",
       "      <td>9</td>\n",
       "      <td>2300</td>\n",
       "      <td>1330</td>\n",
       "      <td>1979</td>\n",
       "      <td>0</td>\n",
       "      <td>98092</td>\n",
       "      <td>47.2617</td>\n",
       "      <td>-122.190</td>\n",
       "      <td>2830</td>\n",
       "      <td>80148</td>\n",
       "    </tr>\n",
       "    <tr>\n",
       "      <th>20559</th>\n",
       "      <td>3438501320</td>\n",
       "      <td>2014-05-02</td>\n",
       "      <td>295000.0</td>\n",
       "      <td>2</td>\n",
       "      <td>2.50</td>\n",
       "      <td>1630</td>\n",
       "      <td>1368</td>\n",
       "      <td>2.0</td>\n",
       "      <td>0</td>\n",
       "      <td>0</td>\n",
       "      <td>...</td>\n",
       "      <td>7</td>\n",
       "      <td>1280</td>\n",
       "      <td>350</td>\n",
       "      <td>2009</td>\n",
       "      <td>0</td>\n",
       "      <td>98106</td>\n",
       "      <td>47.5489</td>\n",
       "      <td>-122.363</td>\n",
       "      <td>1590</td>\n",
       "      <td>2306</td>\n",
       "    </tr>\n",
       "    <tr>\n",
       "      <th>17038</th>\n",
       "      <td>2326059099</td>\n",
       "      <td>2014-05-02</td>\n",
       "      <td>838000.0</td>\n",
       "      <td>4</td>\n",
       "      <td>2.50</td>\n",
       "      <td>3310</td>\n",
       "      <td>42998</td>\n",
       "      <td>2.0</td>\n",
       "      <td>0</td>\n",
       "      <td>0</td>\n",
       "      <td>...</td>\n",
       "      <td>9</td>\n",
       "      <td>3310</td>\n",
       "      <td>0</td>\n",
       "      <td>2001</td>\n",
       "      <td>0</td>\n",
       "      <td>98052</td>\n",
       "      <td>47.7232</td>\n",
       "      <td>-122.131</td>\n",
       "      <td>3350</td>\n",
       "      <td>42847</td>\n",
       "    </tr>\n",
       "    <tr>\n",
       "      <th>15921</th>\n",
       "      <td>7831800460</td>\n",
       "      <td>2014-05-02</td>\n",
       "      <td>235000.0</td>\n",
       "      <td>2</td>\n",
       "      <td>1.00</td>\n",
       "      <td>1210</td>\n",
       "      <td>9400</td>\n",
       "      <td>1.0</td>\n",
       "      <td>0</td>\n",
       "      <td>0</td>\n",
       "      <td>...</td>\n",
       "      <td>6</td>\n",
       "      <td>1210</td>\n",
       "      <td>0</td>\n",
       "      <td>1949</td>\n",
       "      <td>0</td>\n",
       "      <td>98106</td>\n",
       "      <td>47.5342</td>\n",
       "      <td>-122.360</td>\n",
       "      <td>1580</td>\n",
       "      <td>6026</td>\n",
       "    </tr>\n",
       "    <tr>\n",
       "      <th>11891</th>\n",
       "      <td>7305300695</td>\n",
       "      <td>2014-05-02</td>\n",
       "      <td>625000.0</td>\n",
       "      <td>4</td>\n",
       "      <td>2.50</td>\n",
       "      <td>2820</td>\n",
       "      <td>8408</td>\n",
       "      <td>2.0</td>\n",
       "      <td>0</td>\n",
       "      <td>0</td>\n",
       "      <td>...</td>\n",
       "      <td>9</td>\n",
       "      <td>2820</td>\n",
       "      <td>0</td>\n",
       "      <td>2014</td>\n",
       "      <td>0</td>\n",
       "      <td>98155</td>\n",
       "      <td>47.7538</td>\n",
       "      <td>-122.325</td>\n",
       "      <td>1300</td>\n",
       "      <td>8408</td>\n",
       "    </tr>\n",
       "    <tr>\n",
       "      <th>...</th>\n",
       "      <td>...</td>\n",
       "      <td>...</td>\n",
       "      <td>...</td>\n",
       "      <td>...</td>\n",
       "      <td>...</td>\n",
       "      <td>...</td>\n",
       "      <td>...</td>\n",
       "      <td>...</td>\n",
       "      <td>...</td>\n",
       "      <td>...</td>\n",
       "      <td>...</td>\n",
       "      <td>...</td>\n",
       "      <td>...</td>\n",
       "      <td>...</td>\n",
       "      <td>...</td>\n",
       "      <td>...</td>\n",
       "      <td>...</td>\n",
       "      <td>...</td>\n",
       "      <td>...</td>\n",
       "      <td>...</td>\n",
       "      <td>...</td>\n",
       "    </tr>\n",
       "    <tr>\n",
       "      <th>1692</th>\n",
       "      <td>7701990700</td>\n",
       "      <td>2014-12-31</td>\n",
       "      <td>825000.0</td>\n",
       "      <td>4</td>\n",
       "      <td>2.50</td>\n",
       "      <td>3210</td>\n",
       "      <td>18901</td>\n",
       "      <td>2.0</td>\n",
       "      <td>0</td>\n",
       "      <td>0</td>\n",
       "      <td>...</td>\n",
       "      <td>10</td>\n",
       "      <td>3210</td>\n",
       "      <td>0</td>\n",
       "      <td>1993</td>\n",
       "      <td>0</td>\n",
       "      <td>98077</td>\n",
       "      <td>47.7090</td>\n",
       "      <td>-122.073</td>\n",
       "      <td>3330</td>\n",
       "      <td>18901</td>\n",
       "    </tr>\n",
       "    <tr>\n",
       "      <th>8393</th>\n",
       "      <td>2493200215</td>\n",
       "      <td>2014-12-31</td>\n",
       "      <td>582000.0</td>\n",
       "      <td>3</td>\n",
       "      <td>1.75</td>\n",
       "      <td>1820</td>\n",
       "      <td>3140</td>\n",
       "      <td>2.0</td>\n",
       "      <td>0</td>\n",
       "      <td>0</td>\n",
       "      <td>...</td>\n",
       "      <td>8</td>\n",
       "      <td>1820</td>\n",
       "      <td>0</td>\n",
       "      <td>1949</td>\n",
       "      <td>1990</td>\n",
       "      <td>98136</td>\n",
       "      <td>47.5271</td>\n",
       "      <td>-122.384</td>\n",
       "      <td>2030</td>\n",
       "      <td>5499</td>\n",
       "    </tr>\n",
       "    <tr>\n",
       "      <th>18462</th>\n",
       "      <td>7345200650</td>\n",
       "      <td>2014-12-31</td>\n",
       "      <td>219200.0</td>\n",
       "      <td>3</td>\n",
       "      <td>2.00</td>\n",
       "      <td>1680</td>\n",
       "      <td>7000</td>\n",
       "      <td>1.5</td>\n",
       "      <td>0</td>\n",
       "      <td>0</td>\n",
       "      <td>...</td>\n",
       "      <td>7</td>\n",
       "      <td>1680</td>\n",
       "      <td>0</td>\n",
       "      <td>1968</td>\n",
       "      <td>0</td>\n",
       "      <td>98002</td>\n",
       "      <td>47.2775</td>\n",
       "      <td>-122.203</td>\n",
       "      <td>1540</td>\n",
       "      <td>7480</td>\n",
       "    </tr>\n",
       "    <tr>\n",
       "      <th>9850</th>\n",
       "      <td>8861000060</td>\n",
       "      <td>2014-12-31</td>\n",
       "      <td>875000.0</td>\n",
       "      <td>3</td>\n",
       "      <td>1.00</td>\n",
       "      <td>1160</td>\n",
       "      <td>10732</td>\n",
       "      <td>1.0</td>\n",
       "      <td>0</td>\n",
       "      <td>0</td>\n",
       "      <td>...</td>\n",
       "      <td>7</td>\n",
       "      <td>1160</td>\n",
       "      <td>0</td>\n",
       "      <td>1953</td>\n",
       "      <td>0</td>\n",
       "      <td>98004</td>\n",
       "      <td>47.6391</td>\n",
       "      <td>-122.205</td>\n",
       "      <td>2390</td>\n",
       "      <td>13656</td>\n",
       "    </tr>\n",
       "    <tr>\n",
       "      <th>18433</th>\n",
       "      <td>1545801340</td>\n",
       "      <td>2014-12-31</td>\n",
       "      <td>261000.0</td>\n",
       "      <td>3</td>\n",
       "      <td>1.75</td>\n",
       "      <td>1350</td>\n",
       "      <td>7686</td>\n",
       "      <td>1.0</td>\n",
       "      <td>0</td>\n",
       "      <td>0</td>\n",
       "      <td>...</td>\n",
       "      <td>7</td>\n",
       "      <td>1350</td>\n",
       "      <td>0</td>\n",
       "      <td>1987</td>\n",
       "      <td>0</td>\n",
       "      <td>98038</td>\n",
       "      <td>47.3617</td>\n",
       "      <td>-122.052</td>\n",
       "      <td>1370</td>\n",
       "      <td>7686</td>\n",
       "    </tr>\n",
       "  </tbody>\n",
       "</table>\n",
       "<p>14633 rows × 21 columns</p>\n",
       "</div>"
      ],
      "text/plain": [
       "               id       date     price  bedrooms  bathrooms  sqft_living  \\\n",
       "11907  3221059036 2014-05-02  400000.0         4       2.50         3630   \n",
       "20559  3438501320 2014-05-02  295000.0         2       2.50         1630   \n",
       "17038  2326059099 2014-05-02  838000.0         4       2.50         3310   \n",
       "15921  7831800460 2014-05-02  235000.0         2       1.00         1210   \n",
       "11891  7305300695 2014-05-02  625000.0         4       2.50         2820   \n",
       "...           ...        ...       ...       ...        ...          ...   \n",
       "1692   7701990700 2014-12-31  825000.0         4       2.50         3210   \n",
       "8393   2493200215 2014-12-31  582000.0         3       1.75         1820   \n",
       "18462  7345200650 2014-12-31  219200.0         3       2.00         1680   \n",
       "9850   8861000060 2014-12-31  875000.0         3       1.00         1160   \n",
       "18433  1545801340 2014-12-31  261000.0         3       1.75         1350   \n",
       "\n",
       "       sqft_lot  floors  waterfront  view  ...  grade  sqft_above  \\\n",
       "11907     42884     1.5           0     0  ...      9        2300   \n",
       "20559      1368     2.0           0     0  ...      7        1280   \n",
       "17038     42998     2.0           0     0  ...      9        3310   \n",
       "15921      9400     1.0           0     0  ...      6        1210   \n",
       "11891      8408     2.0           0     0  ...      9        2820   \n",
       "...         ...     ...         ...   ...  ...    ...         ...   \n",
       "1692      18901     2.0           0     0  ...     10        3210   \n",
       "8393       3140     2.0           0     0  ...      8        1820   \n",
       "18462      7000     1.5           0     0  ...      7        1680   \n",
       "9850      10732     1.0           0     0  ...      7        1160   \n",
       "18433      7686     1.0           0     0  ...      7        1350   \n",
       "\n",
       "       sqft_basement  yr_built  yr_renovated  zipcode      lat     long  \\\n",
       "11907           1330      1979             0    98092  47.2617 -122.190   \n",
       "20559            350      2009             0    98106  47.5489 -122.363   \n",
       "17038              0      2001             0    98052  47.7232 -122.131   \n",
       "15921              0      1949             0    98106  47.5342 -122.360   \n",
       "11891              0      2014             0    98155  47.7538 -122.325   \n",
       "...              ...       ...           ...      ...      ...      ...   \n",
       "1692               0      1993             0    98077  47.7090 -122.073   \n",
       "8393               0      1949          1990    98136  47.5271 -122.384   \n",
       "18462              0      1968             0    98002  47.2775 -122.203   \n",
       "9850               0      1953             0    98004  47.6391 -122.205   \n",
       "18433              0      1987             0    98038  47.3617 -122.052   \n",
       "\n",
       "       sqft_living15  sqft_lot15  \n",
       "11907           2830       80148  \n",
       "20559           1590        2306  \n",
       "17038           3350       42847  \n",
       "15921           1580        6026  \n",
       "11891           1300        8408  \n",
       "...              ...         ...  \n",
       "1692            3330       18901  \n",
       "8393            2030        5499  \n",
       "18462           1540        7480  \n",
       "9850            2390       13656  \n",
       "18433           1370        7686  \n",
       "\n",
       "[14633 rows x 21 columns]"
      ]
     },
     "execution_count": 98,
     "metadata": {},
     "output_type": "execute_result"
    }
   ],
   "source": [
    "house[house['date'].dt.year==2014].sort_values(\"date\")"
   ]
  },
  {
   "cell_type": "code",
   "execution_count": 136,
   "id": "3709e197",
   "metadata": {},
   "outputs": [],
   "source": [
    "one_year = house[house[\"date\"].between(\"2014-05-01\", \"2015-05-01\")].sort_values(\"date\")"
   ]
  },
  {
   "cell_type": "code",
   "execution_count": 138,
   "id": "43806673",
   "metadata": {},
   "outputs": [
    {
     "data": {
      "text/plain": [
       "<AxesSubplot:>"
      ]
     },
     "execution_count": 138,
     "metadata": {},
     "output_type": "execute_result"
    },
    {
     "data": {
      "image/png": "[encoded data removed]",
      "text/plain": [
       "<Figure size 640x480 with 1 Axes>"
      ]
     },
     "metadata": {},
     "output_type": "display_data"
    }
   ],
   "source": [
    "one_year[\"date\"].dt.month.value_counts().sort_index().plot(kind='bar')"
   ]
  },
  {
   "cell_type": "code",
   "execution_count": 142,
   "id": "53463e3b",
   "metadata": {},
   "outputs": [
    {
     "data": {
      "text/plain": [
       "1    4715\n",
       "2    4603\n",
       "0    4099\n",
       "3    3994\n",
       "4    3685\n",
       "5     287\n",
       "6     230\n",
       "Name: date, dtype: int64"
      ]
     },
     "execution_count": 142,
     "metadata": {},
     "output_type": "execute_result"
    }
   ],
   "source": [
    "house['date'].dt.dayofweek.value_counts()"
   ]
  },
  {
   "cell_type": "code",
   "execution_count": 148,
   "id": "3b6849e7",
   "metadata": {},
   "outputs": [
    {
     "data": {
      "text/plain": [
       "<AxesSubplot:>"
      ]
     },
     "execution_count": 148,
     "metadata": {},
     "output_type": "execute_result"
    },
    {
     "data": {
      "image/png": "[encoded data removed]",
      "text/plain": [
       "<Figure size 640x480 with 1 Axes>"
      ]
     },
     "metadata": {},
     "output_type": "display_data"
    }
   ],
   "source": [
    "house['date'].dt.isocalendar().week.value_counts().sort_index().plot()"
   ]
  },
  {
   "cell_type": "code",
   "execution_count": 181,
   "id": "96b350ab",
   "metadata": {},
   "outputs": [
    {
     "data": {
      "text/plain": [
       "<AxesSubplot:>"
      ]
     },
     "execution_count": 181,
     "metadata": {},
     "output_type": "execute_result"
    },
    {
     "data": {
      "image/png": "[encoded data removed]",
      "text/plain": [
       "<Figure size 640x480 with 1 Axes>"
      ]
     },
     "metadata": {},
     "output_type": "display_data"
    }
   ],
   "source": [
    "house[house['date'].dt.month.isin([12,1,2])]['date'].dt.month.value_counts().plot(kind='bar')"
   ]
  },
  {
   "cell_type": "code",
   "execution_count": 188,
   "id": "b47a59a1",
   "metadata": {},
   "outputs": [],
   "source": [
    "df = house[house[\"date\"].between(\"2014-05-01\", \"2015-05-01\")]\n",
    "df = df[df[\"waterfront\"]==1]"
   ]
  },
  {
   "cell_type": "code",
   "execution_count": 193,
   "id": "eb03a521",
   "metadata": {},
   "outputs": [
    {
     "data": {
      "text/plain": [
       "<AxesSubplot:>"
      ]
     },
     "execution_count": 193,
     "metadata": {},
     "output_type": "execute_result"
    },
    {
     "data": {
      "image/png": "[encoded data removed]",
      "text/plain": [
       "<Figure size 640x480 with 1 Axes>"
      ]
     },
     "metadata": {},
     "output_type": "display_data"
    }
   ],
   "source": [
    "df['date'].dt.quarter.value_counts().plot(kind='bar')"
   ]
  }
 ],
 "metadata": {
  "kernelspec": {
   "display_name": "Python 3 (ipykernel)",
   "language": "python",
   "name": "python3"
  },
  "language_info": {
   "codemirror_mode": {
    "name": "ipython",
    "version": 3
   },
   "file_extension": ".py",
   "mimetype": "text/x-python",
   "name": "python",
   "nbconvert_exporter": "python",
   "pygments_lexer": "ipython3",
   "version": "3.9.13"
  }
 },
 "nbformat": 4,
 "nbformat_minor": 5
}
